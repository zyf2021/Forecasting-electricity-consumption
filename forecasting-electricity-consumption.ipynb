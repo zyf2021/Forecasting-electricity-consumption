{
 "cells": [
  {
   "cell_type": "code",
   "execution_count": 1,
   "id": "2bc73c91",
   "metadata": {
    "_cell_guid": "b1076dfc-b9ad-4769-8c92-a6c4dae69d19",
    "_uuid": "8f2839f25d086af736a60e9eeb907d3b93b6e0e5",
    "execution": {
     "iopub.execute_input": "2024-09-21T13:00:24.941506Z",
     "iopub.status.busy": "2024-09-21T13:00:24.940222Z",
     "iopub.status.idle": "2024-09-21T13:00:25.743031Z",
     "shell.execute_reply": "2024-09-21T13:00:25.741873Z"
    },
    "papermill": {
     "duration": 0.815086,
     "end_time": "2024-09-21T13:00:25.745758",
     "exception": false,
     "start_time": "2024-09-21T13:00:24.930672",
     "status": "completed"
    },
    "tags": []
   },
   "outputs": [
    {
     "name": "stdout",
     "output_type": "stream",
     "text": [
      "/kaggle/input/electric-power-consumption-data-set/household_power_consumption.txt\n"
     ]
    }
   ],
   "source": [
    "# This Python 3 environment comes with many helpful analytics libraries installed\n",
    "# It is defined by the kaggle/python Docker image: https://github.com/kaggle/docker-python\n",
    "# For example, here's several helpful packages to load\n",
    "\n",
    "import numpy as np # linear algebra\n",
    "import pandas as pd # data processing, CSV file I/O (e.g. pd.read_csv)\n",
    "\n",
    "# Input data files are available in the read-only \"../input/\" directory\n",
    "# For example, running this (by clicking run or pressing Shift+Enter) will list all files under the input directory\n",
    "\n",
    "import os\n",
    "for dirname, _, filenames in os.walk('/kaggle/input'):\n",
    "    for filename in filenames:\n",
    "        print(os.path.join(dirname, filename))\n",
    "\n",
    "# You can write up to 20GB to the current directory (/kaggle/working/) that gets preserved as output when you create a version using \"Save & Run All\" \n",
    "# You can also write temporary files to /kaggle/temp/, but they won't be saved outside of the current session"
   ]
  },
  {
   "cell_type": "markdown",
   "id": "6e928d7d",
   "metadata": {
    "papermill": {
     "duration": 0.006611,
     "end_time": "2024-09-21T13:00:25.759488",
     "exception": false,
     "start_time": "2024-09-21T13:00:25.752877",
     "status": "completed"
    },
    "tags": []
   },
   "source": [
    "# Шаг 1. Подготовка данных"
   ]
  },
  {
   "cell_type": "code",
   "execution_count": 2,
   "id": "0d1df7e3",
   "metadata": {
    "execution": {
     "iopub.execute_input": "2024-09-21T13:00:25.775558Z",
     "iopub.status.busy": "2024-09-21T13:00:25.774663Z",
     "iopub.status.idle": "2024-09-21T13:00:31.108611Z",
     "shell.execute_reply": "2024-09-21T13:00:31.107465Z"
    },
    "papermill": {
     "duration": 5.345121,
     "end_time": "2024-09-21T13:00:31.111354",
     "exception": false,
     "start_time": "2024-09-21T13:00:25.766233",
     "status": "completed"
    },
    "tags": []
   },
   "outputs": [
    {
     "name": "stderr",
     "output_type": "stream",
     "text": [
      "/tmp/ipykernel_17/3855191428.py:1: DtypeWarning: Columns (2,3,4,5,6,7) have mixed types. Specify dtype option on import or set low_memory=False.\n",
      "  data = pd.read_table('/kaggle/input/electric-power-consumption-data-set/household_power_consumption.txt', sep = ';')\n"
     ]
    },
    {
     "data": {
      "text/html": [
       "<div>\n",
       "<style scoped>\n",
       "    .dataframe tbody tr th:only-of-type {\n",
       "        vertical-align: middle;\n",
       "    }\n",
       "\n",
       "    .dataframe tbody tr th {\n",
       "        vertical-align: top;\n",
       "    }\n",
       "\n",
       "    .dataframe thead th {\n",
       "        text-align: right;\n",
       "    }\n",
       "</style>\n",
       "<table border=\"1\" class=\"dataframe\">\n",
       "  <thead>\n",
       "    <tr style=\"text-align: right;\">\n",
       "      <th></th>\n",
       "      <th>Date</th>\n",
       "      <th>Time</th>\n",
       "      <th>Global_active_power</th>\n",
       "      <th>Global_reactive_power</th>\n",
       "      <th>Voltage</th>\n",
       "      <th>Global_intensity</th>\n",
       "      <th>Sub_metering_1</th>\n",
       "      <th>Sub_metering_2</th>\n",
       "      <th>Sub_metering_3</th>\n",
       "    </tr>\n",
       "  </thead>\n",
       "  <tbody>\n",
       "    <tr>\n",
       "      <th>0</th>\n",
       "      <td>16/12/2006</td>\n",
       "      <td>17:24:00</td>\n",
       "      <td>4.216</td>\n",
       "      <td>0.418</td>\n",
       "      <td>234.840</td>\n",
       "      <td>18.400</td>\n",
       "      <td>0.000</td>\n",
       "      <td>1.000</td>\n",
       "      <td>17.0</td>\n",
       "    </tr>\n",
       "    <tr>\n",
       "      <th>1</th>\n",
       "      <td>16/12/2006</td>\n",
       "      <td>17:25:00</td>\n",
       "      <td>5.360</td>\n",
       "      <td>0.436</td>\n",
       "      <td>233.630</td>\n",
       "      <td>23.000</td>\n",
       "      <td>0.000</td>\n",
       "      <td>1.000</td>\n",
       "      <td>16.0</td>\n",
       "    </tr>\n",
       "    <tr>\n",
       "      <th>2</th>\n",
       "      <td>16/12/2006</td>\n",
       "      <td>17:26:00</td>\n",
       "      <td>5.374</td>\n",
       "      <td>0.498</td>\n",
       "      <td>233.290</td>\n",
       "      <td>23.000</td>\n",
       "      <td>0.000</td>\n",
       "      <td>2.000</td>\n",
       "      <td>17.0</td>\n",
       "    </tr>\n",
       "    <tr>\n",
       "      <th>3</th>\n",
       "      <td>16/12/2006</td>\n",
       "      <td>17:27:00</td>\n",
       "      <td>5.388</td>\n",
       "      <td>0.502</td>\n",
       "      <td>233.740</td>\n",
       "      <td>23.000</td>\n",
       "      <td>0.000</td>\n",
       "      <td>1.000</td>\n",
       "      <td>17.0</td>\n",
       "    </tr>\n",
       "    <tr>\n",
       "      <th>4</th>\n",
       "      <td>16/12/2006</td>\n",
       "      <td>17:28:00</td>\n",
       "      <td>3.666</td>\n",
       "      <td>0.528</td>\n",
       "      <td>235.680</td>\n",
       "      <td>15.800</td>\n",
       "      <td>0.000</td>\n",
       "      <td>1.000</td>\n",
       "      <td>17.0</td>\n",
       "    </tr>\n",
       "  </tbody>\n",
       "</table>\n",
       "</div>"
      ],
      "text/plain": [
       "         Date      Time Global_active_power Global_reactive_power  Voltage  \\\n",
       "0  16/12/2006  17:24:00               4.216                 0.418  234.840   \n",
       "1  16/12/2006  17:25:00               5.360                 0.436  233.630   \n",
       "2  16/12/2006  17:26:00               5.374                 0.498  233.290   \n",
       "3  16/12/2006  17:27:00               5.388                 0.502  233.740   \n",
       "4  16/12/2006  17:28:00               3.666                 0.528  235.680   \n",
       "\n",
       "  Global_intensity Sub_metering_1 Sub_metering_2  Sub_metering_3  \n",
       "0           18.400          0.000          1.000            17.0  \n",
       "1           23.000          0.000          1.000            16.0  \n",
       "2           23.000          0.000          2.000            17.0  \n",
       "3           23.000          0.000          1.000            17.0  \n",
       "4           15.800          0.000          1.000            17.0  "
      ]
     },
     "execution_count": 2,
     "metadata": {},
     "output_type": "execute_result"
    }
   ],
   "source": [
    "data = pd.read_table('/kaggle/input/electric-power-consumption-data-set/household_power_consumption.txt', sep = ';')\n",
    "data.head()"
   ]
  },
  {
   "cell_type": "code",
   "execution_count": 3,
   "id": "93281dbf",
   "metadata": {
    "execution": {
     "iopub.execute_input": "2024-09-21T13:00:31.128756Z",
     "iopub.status.busy": "2024-09-21T13:00:31.127768Z",
     "iopub.status.idle": "2024-09-21T13:00:31.135274Z",
     "shell.execute_reply": "2024-09-21T13:00:31.134172Z"
    },
    "papermill": {
     "duration": 0.018595,
     "end_time": "2024-09-21T13:00:31.137586",
     "exception": false,
     "start_time": "2024-09-21T13:00:31.118991",
     "status": "completed"
    },
    "tags": []
   },
   "outputs": [
    {
     "data": {
      "text/plain": [
       "2075259"
      ]
     },
     "execution_count": 3,
     "metadata": {},
     "output_type": "execute_result"
    }
   ],
   "source": [
    "len(data)"
   ]
  },
  {
   "cell_type": "markdown",
   "id": "f55192e6",
   "metadata": {
    "papermill": {
     "duration": 0.007224,
     "end_time": "2024-09-21T13:00:31.152455",
     "exception": false,
     "start_time": "2024-09-21T13:00:31.145231",
     "status": "completed"
    },
    "tags": []
   },
   "source": [
    "Тип object - надо переводить в числовой"
   ]
  },
  {
   "cell_type": "code",
   "execution_count": 4,
   "id": "0b9a8a11",
   "metadata": {
    "execution": {
     "iopub.execute_input": "2024-09-21T13:00:31.168813Z",
     "iopub.status.busy": "2024-09-21T13:00:31.168344Z",
     "iopub.status.idle": "2024-09-21T13:00:31.195128Z",
     "shell.execute_reply": "2024-09-21T13:00:31.193917Z"
    },
    "papermill": {
     "duration": 0.03803,
     "end_time": "2024-09-21T13:00:31.197748",
     "exception": false,
     "start_time": "2024-09-21T13:00:31.159718",
     "status": "completed"
    },
    "tags": []
   },
   "outputs": [
    {
     "name": "stdout",
     "output_type": "stream",
     "text": [
      "<class 'pandas.core.frame.DataFrame'>\n",
      "RangeIndex: 2075259 entries, 0 to 2075258\n",
      "Data columns (total 9 columns):\n",
      " #   Column                 Dtype  \n",
      "---  ------                 -----  \n",
      " 0   Date                   object \n",
      " 1   Time                   object \n",
      " 2   Global_active_power    object \n",
      " 3   Global_reactive_power  object \n",
      " 4   Voltage                object \n",
      " 5   Global_intensity       object \n",
      " 6   Sub_metering_1         object \n",
      " 7   Sub_metering_2         object \n",
      " 8   Sub_metering_3         float64\n",
      "dtypes: float64(1), object(8)\n",
      "memory usage: 142.5+ MB\n"
     ]
    }
   ],
   "source": [
    "data.info()"
   ]
  },
  {
   "cell_type": "markdown",
   "id": "93eb8ba5",
   "metadata": {
    "papermill": {
     "duration": 0.007845,
     "end_time": "2024-09-21T13:00:31.213288",
     "exception": false,
     "start_time": "2024-09-21T13:00:31.205443",
     "status": "completed"
    },
    "tags": []
   },
   "source": [
    "Проверим на пропуски и дубли"
   ]
  },
  {
   "cell_type": "code",
   "execution_count": 5,
   "id": "1418e275",
   "metadata": {
    "execution": {
     "iopub.execute_input": "2024-09-21T13:00:31.230456Z",
     "iopub.status.busy": "2024-09-21T13:00:31.230025Z",
     "iopub.status.idle": "2024-09-21T13:00:32.990258Z",
     "shell.execute_reply": "2024-09-21T13:00:32.989085Z"
    },
    "papermill": {
     "duration": 1.771932,
     "end_time": "2024-09-21T13:00:32.992950",
     "exception": false,
     "start_time": "2024-09-21T13:00:31.221018",
     "status": "completed"
    },
    "tags": []
   },
   "outputs": [
    {
     "data": {
      "text/plain": [
       "Date                         0\n",
       "Time                         0\n",
       "Global_active_power          0\n",
       "Global_reactive_power        0\n",
       "Voltage                      0\n",
       "Global_intensity             0\n",
       "Sub_metering_1               0\n",
       "Sub_metering_2               0\n",
       "Sub_metering_3           25979\n",
       "dtype: int64"
      ]
     },
     "execution_count": 5,
     "metadata": {},
     "output_type": "execute_result"
    }
   ],
   "source": [
    "data.isnull().sum()"
   ]
  },
  {
   "cell_type": "code",
   "execution_count": 6,
   "id": "fd6bf06a",
   "metadata": {
    "execution": {
     "iopub.execute_input": "2024-09-21T13:00:33.011480Z",
     "iopub.status.busy": "2024-09-21T13:00:33.011035Z",
     "iopub.status.idle": "2024-09-21T13:00:36.760879Z",
     "shell.execute_reply": "2024-09-21T13:00:36.759669Z"
    },
    "papermill": {
     "duration": 3.762515,
     "end_time": "2024-09-21T13:00:36.763609",
     "exception": false,
     "start_time": "2024-09-21T13:00:33.001094",
     "status": "completed"
    },
    "tags": []
   },
   "outputs": [
    {
     "data": {
      "text/plain": [
       "0"
      ]
     },
     "execution_count": 6,
     "metadata": {},
     "output_type": "execute_result"
    }
   ],
   "source": [
    "data.duplicated().sum()"
   ]
  },
  {
   "cell_type": "markdown",
   "id": "ba36dcec",
   "metadata": {
    "papermill": {
     "duration": 0.007793,
     "end_time": "2024-09-21T13:00:36.779811",
     "exception": false,
     "start_time": "2024-09-21T13:00:36.772018",
     "status": "completed"
    },
    "tags": []
   },
   "source": [
    "**Уберем тип object**"
   ]
  },
  {
   "cell_type": "code",
   "execution_count": 7,
   "id": "9f3ebaac",
   "metadata": {
    "execution": {
     "iopub.execute_input": "2024-09-21T13:00:36.797663Z",
     "iopub.status.busy": "2024-09-21T13:00:36.797231Z",
     "iopub.status.idle": "2024-09-21T13:00:42.093585Z",
     "shell.execute_reply": "2024-09-21T13:00:42.092262Z"
    },
    "papermill": {
     "duration": 5.308848,
     "end_time": "2024-09-21T13:00:42.096579",
     "exception": false,
     "start_time": "2024-09-21T13:00:36.787731",
     "status": "completed"
    },
    "tags": []
   },
   "outputs": [],
   "source": [
    "data['Global_active_power'] = pd.to_numeric(data['Global_active_power'], errors='coerce')\n",
    "data['Sub_metering_3'] = pd.to_numeric(data['Sub_metering_3'], errors='coerce')\n",
    "data['Sub_metering_2'] = pd.to_numeric(data['Sub_metering_2'], errors='coerce')\n",
    "data['Sub_metering_1'] = pd.to_numeric(data['Sub_metering_1'], errors='coerce')\n",
    "data['Voltage'] = pd.to_numeric(data['Voltage'], errors='coerce')\n",
    "data['Global_reactive_power'] = pd.to_numeric(data['Voltage'], errors='coerce')\n"
   ]
  },
  {
   "cell_type": "code",
   "execution_count": 8,
   "id": "37254cdc",
   "metadata": {
    "execution": {
     "iopub.execute_input": "2024-09-21T13:00:42.115692Z",
     "iopub.status.busy": "2024-09-21T13:00:42.115186Z",
     "iopub.status.idle": "2024-09-21T13:00:43.496749Z",
     "shell.execute_reply": "2024-09-21T13:00:43.495433Z"
    },
    "papermill": {
     "duration": 1.39432,
     "end_time": "2024-09-21T13:00:43.499675",
     "exception": false,
     "start_time": "2024-09-21T13:00:42.105355",
     "status": "completed"
    },
    "tags": []
   },
   "outputs": [],
   "source": [
    "data['Global_intensity'] = pd.to_numeric(data['Global_intensity'], errors = 'coerce')"
   ]
  },
  {
   "cell_type": "code",
   "execution_count": 9,
   "id": "069f6d42",
   "metadata": {
    "execution": {
     "iopub.execute_input": "2024-09-21T13:00:43.517431Z",
     "iopub.status.busy": "2024-09-21T13:00:43.516978Z",
     "iopub.status.idle": "2024-09-21T13:00:43.522322Z",
     "shell.execute_reply": "2024-09-21T13:00:43.521192Z"
    },
    "papermill": {
     "duration": 0.017064,
     "end_time": "2024-09-21T13:00:43.524698",
     "exception": false,
     "start_time": "2024-09-21T13:00:43.507634",
     "status": "completed"
    },
    "tags": []
   },
   "outputs": [],
   "source": [
    "# data['Date'] = pd.to_datetime(data['Date'])"
   ]
  },
  {
   "cell_type": "code",
   "execution_count": 10,
   "id": "579d84ab",
   "metadata": {
    "execution": {
     "iopub.execute_input": "2024-09-21T13:00:43.542652Z",
     "iopub.status.busy": "2024-09-21T13:00:43.542198Z",
     "iopub.status.idle": "2024-09-21T13:00:43.548626Z",
     "shell.execute_reply": "2024-09-21T13:00:43.547492Z"
    },
    "papermill": {
     "duration": 0.018453,
     "end_time": "2024-09-21T13:00:43.551348",
     "exception": false,
     "start_time": "2024-09-21T13:00:43.532895",
     "status": "completed"
    },
    "tags": []
   },
   "outputs": [],
   "source": [
    "# data['Time'] = pd.to_datetime(data['Time'], format='%H:%M:%S').dt.time"
   ]
  },
  {
   "cell_type": "code",
   "execution_count": 11,
   "id": "43d13ab2",
   "metadata": {
    "execution": {
     "iopub.execute_input": "2024-09-21T13:00:43.569630Z",
     "iopub.status.busy": "2024-09-21T13:00:43.569160Z",
     "iopub.status.idle": "2024-09-21T13:00:57.254343Z",
     "shell.execute_reply": "2024-09-21T13:00:57.253153Z"
    },
    "papermill": {
     "duration": 13.697757,
     "end_time": "2024-09-21T13:00:57.257306",
     "exception": false,
     "start_time": "2024-09-21T13:00:43.559549",
     "status": "completed"
    },
    "tags": []
   },
   "outputs": [],
   "source": [
    "data['Datetime'] = pd.to_datetime(data['Date'] + ' ' + data['Time'], format='%d/%m/%Y %H:%M:%S')"
   ]
  },
  {
   "cell_type": "code",
   "execution_count": 12,
   "id": "6d0d3dce",
   "metadata": {
    "execution": {
     "iopub.execute_input": "2024-09-21T13:00:57.274759Z",
     "iopub.status.busy": "2024-09-21T13:00:57.274357Z",
     "iopub.status.idle": "2024-09-21T13:00:57.285671Z",
     "shell.execute_reply": "2024-09-21T13:00:57.284503Z"
    },
    "papermill": {
     "duration": 0.023398,
     "end_time": "2024-09-21T13:00:57.288677",
     "exception": false,
     "start_time": "2024-09-21T13:00:57.265279",
     "status": "completed"
    },
    "tags": []
   },
   "outputs": [
    {
     "name": "stdout",
     "output_type": "stream",
     "text": [
      "<class 'pandas.core.frame.DataFrame'>\n",
      "RangeIndex: 2075259 entries, 0 to 2075258\n",
      "Data columns (total 10 columns):\n",
      " #   Column                 Dtype         \n",
      "---  ------                 -----         \n",
      " 0   Date                   object        \n",
      " 1   Time                   object        \n",
      " 2   Global_active_power    float64       \n",
      " 3   Global_reactive_power  float64       \n",
      " 4   Voltage                float64       \n",
      " 5   Global_intensity       float64       \n",
      " 6   Sub_metering_1         float64       \n",
      " 7   Sub_metering_2         float64       \n",
      " 8   Sub_metering_3         float64       \n",
      " 9   Datetime               datetime64[ns]\n",
      "dtypes: datetime64[ns](1), float64(7), object(2)\n",
      "memory usage: 158.3+ MB\n"
     ]
    }
   ],
   "source": [
    "data.info()"
   ]
  },
  {
   "cell_type": "code",
   "execution_count": 13,
   "id": "80966e9d",
   "metadata": {
    "execution": {
     "iopub.execute_input": "2024-09-21T13:00:57.306461Z",
     "iopub.status.busy": "2024-09-21T13:00:57.306018Z",
     "iopub.status.idle": "2024-09-21T13:00:57.462337Z",
     "shell.execute_reply": "2024-09-21T13:00:57.461051Z"
    },
    "papermill": {
     "duration": 0.168462,
     "end_time": "2024-09-21T13:00:57.465268",
     "exception": false,
     "start_time": "2024-09-21T13:00:57.296806",
     "status": "completed"
    },
    "tags": []
   },
   "outputs": [],
   "source": [
    "data.drop('Date', axis=1, inplace=True)\n",
    "data.drop('Time', axis=1, inplace=True)\n",
    "\n"
   ]
  },
  {
   "cell_type": "code",
   "execution_count": 14,
   "id": "4cca1769",
   "metadata": {
    "execution": {
     "iopub.execute_input": "2024-09-21T13:00:57.483638Z",
     "iopub.status.busy": "2024-09-21T13:00:57.483216Z",
     "iopub.status.idle": "2024-09-21T13:00:57.502797Z",
     "shell.execute_reply": "2024-09-21T13:00:57.501569Z"
    },
    "papermill": {
     "duration": 0.03187,
     "end_time": "2024-09-21T13:00:57.505386",
     "exception": false,
     "start_time": "2024-09-21T13:00:57.473516",
     "status": "completed"
    },
    "tags": []
   },
   "outputs": [
    {
     "data": {
      "text/html": [
       "<div>\n",
       "<style scoped>\n",
       "    .dataframe tbody tr th:only-of-type {\n",
       "        vertical-align: middle;\n",
       "    }\n",
       "\n",
       "    .dataframe tbody tr th {\n",
       "        vertical-align: top;\n",
       "    }\n",
       "\n",
       "    .dataframe thead th {\n",
       "        text-align: right;\n",
       "    }\n",
       "</style>\n",
       "<table border=\"1\" class=\"dataframe\">\n",
       "  <thead>\n",
       "    <tr style=\"text-align: right;\">\n",
       "      <th></th>\n",
       "      <th>Global_active_power</th>\n",
       "      <th>Global_reactive_power</th>\n",
       "      <th>Voltage</th>\n",
       "      <th>Global_intensity</th>\n",
       "      <th>Sub_metering_1</th>\n",
       "      <th>Sub_metering_2</th>\n",
       "      <th>Sub_metering_3</th>\n",
       "      <th>Datetime</th>\n",
       "    </tr>\n",
       "  </thead>\n",
       "  <tbody>\n",
       "    <tr>\n",
       "      <th>0</th>\n",
       "      <td>4.216</td>\n",
       "      <td>234.84</td>\n",
       "      <td>234.84</td>\n",
       "      <td>18.4</td>\n",
       "      <td>0.0</td>\n",
       "      <td>1.0</td>\n",
       "      <td>17.0</td>\n",
       "      <td>2006-12-16 17:24:00</td>\n",
       "    </tr>\n",
       "    <tr>\n",
       "      <th>1</th>\n",
       "      <td>5.360</td>\n",
       "      <td>233.63</td>\n",
       "      <td>233.63</td>\n",
       "      <td>23.0</td>\n",
       "      <td>0.0</td>\n",
       "      <td>1.0</td>\n",
       "      <td>16.0</td>\n",
       "      <td>2006-12-16 17:25:00</td>\n",
       "    </tr>\n",
       "    <tr>\n",
       "      <th>2</th>\n",
       "      <td>5.374</td>\n",
       "      <td>233.29</td>\n",
       "      <td>233.29</td>\n",
       "      <td>23.0</td>\n",
       "      <td>0.0</td>\n",
       "      <td>2.0</td>\n",
       "      <td>17.0</td>\n",
       "      <td>2006-12-16 17:26:00</td>\n",
       "    </tr>\n",
       "    <tr>\n",
       "      <th>3</th>\n",
       "      <td>5.388</td>\n",
       "      <td>233.74</td>\n",
       "      <td>233.74</td>\n",
       "      <td>23.0</td>\n",
       "      <td>0.0</td>\n",
       "      <td>1.0</td>\n",
       "      <td>17.0</td>\n",
       "      <td>2006-12-16 17:27:00</td>\n",
       "    </tr>\n",
       "    <tr>\n",
       "      <th>4</th>\n",
       "      <td>3.666</td>\n",
       "      <td>235.68</td>\n",
       "      <td>235.68</td>\n",
       "      <td>15.8</td>\n",
       "      <td>0.0</td>\n",
       "      <td>1.0</td>\n",
       "      <td>17.0</td>\n",
       "      <td>2006-12-16 17:28:00</td>\n",
       "    </tr>\n",
       "  </tbody>\n",
       "</table>\n",
       "</div>"
      ],
      "text/plain": [
       "   Global_active_power  Global_reactive_power  Voltage  Global_intensity  \\\n",
       "0                4.216                 234.84   234.84              18.4   \n",
       "1                5.360                 233.63   233.63              23.0   \n",
       "2                5.374                 233.29   233.29              23.0   \n",
       "3                5.388                 233.74   233.74              23.0   \n",
       "4                3.666                 235.68   235.68              15.8   \n",
       "\n",
       "   Sub_metering_1  Sub_metering_2  Sub_metering_3            Datetime  \n",
       "0             0.0             1.0            17.0 2006-12-16 17:24:00  \n",
       "1             0.0             1.0            16.0 2006-12-16 17:25:00  \n",
       "2             0.0             2.0            17.0 2006-12-16 17:26:00  \n",
       "3             0.0             1.0            17.0 2006-12-16 17:27:00  \n",
       "4             0.0             1.0            17.0 2006-12-16 17:28:00  "
      ]
     },
     "execution_count": 14,
     "metadata": {},
     "output_type": "execute_result"
    }
   ],
   "source": [
    "data.head()"
   ]
  },
  {
   "cell_type": "markdown",
   "id": "848d8d2c",
   "metadata": {
    "papermill": {
     "duration": 0.008798,
     "end_time": "2024-09-21T13:00:57.523867",
     "exception": false,
     "start_time": "2024-09-21T13:00:57.515069",
     "status": "completed"
    },
    "tags": []
   },
   "source": [
    "# Шаг 2 EDA"
   ]
  },
  {
   "cell_type": "code",
   "execution_count": 15,
   "id": "c4d7b992",
   "metadata": {
    "execution": {
     "iopub.execute_input": "2024-09-21T13:00:57.543437Z",
     "iopub.status.busy": "2024-09-21T13:00:57.542908Z",
     "iopub.status.idle": "2024-09-21T13:00:58.579287Z",
     "shell.execute_reply": "2024-09-21T13:00:58.577969Z"
    },
    "papermill": {
     "duration": 1.050441,
     "end_time": "2024-09-21T13:00:58.582743",
     "exception": false,
     "start_time": "2024-09-21T13:00:57.532302",
     "status": "completed"
    },
    "tags": []
   },
   "outputs": [
    {
     "data": {
      "image/png": "[encoded data removed]",
      "text/plain": [
       "<Figure size 1000x600 with 1 Axes>"
      ]
     },
     "metadata": {},
     "output_type": "display_data"
    }
   ],
   "source": [
    "import matplotlib.pyplot as plt\n",
    "\n",
    "# График временного ряда\n",
    "plt.figure(figsize=(10, 6))\n",
    "plt.plot(data['Datetime'], data['Global_active_power'])\n",
    "plt.title('Потребление активной мощности по времени')\n",
    "plt.xlabel('Дата')\n",
    "plt.ylabel('Активная мощность (кВт)')\n",
    "plt.grid(True)\n",
    "plt.show()\n"
   ]
  }
 ],
 "metadata": {
  "kaggle": {
   "accelerator": "none",
   "dataSources": [
    {
     "datasetId": 122,
     "sourceId": 260,
     "sourceType": "datasetVersion"
    }
   ],
   "dockerImageVersionId": 30761,
   "isGpuEnabled": false,
   "isInternetEnabled": true,
   "language": "python",
   "sourceType": "notebook"
  },
  "kernelspec": {
   "display_name": "Python 3",
   "language": "python",
   "name": "python3"
  },
  "language_info": {
   "codemirror_mode": {
    "name": "ipython",
    "version": 3
   },
   "file_extension": ".py",
   "mimetype": "text/x-python",
   "name": "python",
   "nbconvert_exporter": "python",
   "pygments_lexer": "ipython3",
   "version": "3.10.14"
  },
  "papermill": {
   "default_parameters": {},
   "duration": 37.647325,
   "end_time": "2024-09-21T13:00:59.217459",
   "environment_variables": {},
   "exception": null,
   "input_path": "__notebook__.ipynb",
   "output_path": "__notebook__.ipynb",
   "parameters": {},
   "start_time": "2024-09-21T13:00:21.570134",
   "version": "2.6.0"
  }
 },
 "nbformat": 4,
 "nbformat_minor": 5
}
